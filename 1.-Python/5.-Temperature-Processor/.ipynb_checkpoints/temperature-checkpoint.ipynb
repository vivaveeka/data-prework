{
 "cells": [
  {
   "cell_type": "markdown",
   "metadata": {},
   "source": [
    "<img src=\"https://bit.ly/2VnXWr2\" width=\"100\" align=\"left\">"
   ]
  },
  {
   "cell_type": "markdown",
   "metadata": {},
   "source": [
    "# Temperature Sensor\n",
    "\n",
    "There is a temperature sensor in the processor of your company's server. The company wants to analyze the data provided by the sensor to decide if they should change the cooling system for a better one. As changing the cooling system is expensive and you are an excellent data analyst, you can't make a decision without basis.\n",
    "\n",
    "## Tools\n",
    "You don't necessarily need to use all the tools. Maybe you opt to use some of them or completely different ones, they are given to help you shape the exercise. Programming exercises can be solved in many different ways.\n",
    "1. Data structures: **lists**\n",
    "2. Loops: **list comprehension**\n",
    "3. Functions: **min, max, print, len**\n",
    "4. Conditional statements: **if-elif-else**\n",
    "\n",
    "## Tasks\n",
    "The temperatures measured throughout the 24 hours of a day are:"
   ]
  },
  {
   "cell_type": "code",
   "execution_count": null,
   "metadata": {
    "collapsed": true
   },
   "outputs": [],
   "source": [
    "temperatures_C = [33, 66, 65, 0, 59, 60, 62, 64, 70, 76, 80, 81, 80, 83, 90, 79, 61, 53, 50, 49, 53, 48, 45, 39]"
   ]
  },
  {
   "cell_type": "markdown",
   "metadata": {},
   "source": [
    "The first element of the list is the temperature at 12am, the second element is the temperature at 1am, and so on. \n",
    "\n",
    "The company has decided that if one of the following events occurs, then the cooling system needs to be replaced for a new one to avoid damaging the processor.\n",
    "* More than 4 temperatures are greater than or equal to 70ºC.\n",
    "* Any temperature is above 80ºC.\n",
    "* The average temperature exceeds 65ºC.\n",
    "\n",
    "Follow the steps so that you can make the decision.\n",
    "\n",
    "#### 1. Find the minimum temperature of the day and store it in a variable."
   ]
  },
  {
   "cell_type": "code",
   "execution_count": 13,
   "metadata": {
    "collapsed": false
   },
   "outputs": [
    {
     "name": "stdout",
     "output_type": "stream",
     "text": [
      "0\n"
     ]
    }
   ],
   "source": [
    "temperatures_C = [33, 66, 65, 0, 59, 60, 62, 64, 70, 76, 80, 81, 80, 83, 90, 79, 61, 53, 50, 49, 53, 48, 45, 39]\n",
    "minimum = min(temperatures_C)\n",
    "print(minimum)"
   ]
  },
  {
   "cell_type": "markdown",
   "metadata": {},
   "source": [
    "#### 2. Find the maximum temperature of the day and store it in a variable."
   ]
  },
  {
   "cell_type": "code",
   "execution_count": 14,
   "metadata": {
    "collapsed": false
   },
   "outputs": [
    {
     "name": "stdout",
     "output_type": "stream",
     "text": [
      "90\n"
     ]
    }
   ],
   "source": [
    "temperatures_C = [33, 66, 65, 0, 59, 60, 62, 64, 70, 76, 80, 81, 80, 83, 90, 79, 61, 53, 50, 49, 53, 48, 45, 39]\n",
    "maximum = max(temperatures_C)\n",
    "print(maximum)"
   ]
  },
  {
   "cell_type": "markdown",
   "metadata": {},
   "source": [
    "#### 3. Create a list with the temperatures that are greater than or equal to 70ºC. Store it in a variable."
   ]
  },
  {
   "cell_type": "code",
   "execution_count": 25,
   "metadata": {
    "collapsed": false
   },
   "outputs": [
    {
     "name": "stdout",
     "output_type": "stream",
     "text": [
      "Here is a list of temperatures greater than or equal to 70C [70, 76, 79, 80, 80, 81, 83, 90]\n",
      "Here is a list of temperatures greater than or equal to 70C [70, 76, 79, 80, 80, 81, 83, 90]\n"
     ]
    }
   ],
   "source": [
    "temperatures_C = [33, 66, 65, 0, 59, 60, 62, 64, 70, 76, 80, 81, 80, 83, 90, 79, 61, 53, 50, 49, 53, 48, 45, 39]\n",
    "temperatures_C.sort()\n",
    "#print(temperatures_C)\n",
    "\n",
    "temperatures_70C = []\n",
    "\n",
    "for temperature in temperatures_C:\n",
    "    if temperature >= 70:\n",
    "        temperatures_70C.append(temperature)\n",
    "    \n",
    "print('Here is a list of temperatures greater than or equal to 70C', temperatures_70C)\n",
    "\n",
    "temperatures_70C = []\n",
    "\n",
    "for i in range(0,len(temperatures_C)):\n",
    "    temperature = temperatures_C[i]\n",
    "    if temperature >= 70:\n",
    "        temperatures_70C.append(temperature)\n",
    "        \n",
    "print('Here is a list of temperatures greater than or equal to 70C', temperatures_70C)"
   ]
  },
  {
   "cell_type": "markdown",
   "metadata": {},
   "source": [
    "#### 4. Find the average temperature of the day and store it in a variable."
   ]
  },
  {
   "cell_type": "code",
   "execution_count": 29,
   "metadata": {
    "collapsed": false
   },
   "outputs": [
    {
     "name": "stdout",
     "output_type": "stream",
     "text": [
      "1446\n",
      "24\n",
      "Average temperature of the day is 60.25\n"
     ]
    }
   ],
   "source": [
    "temperatures_C = [33, 66, 65, 0, 59, 60, 62, 64, 70, 76, 80, 81, 80, 83, 90, 79, 61, 53, 50, 49, 53, 48, 45, 39]\n",
    "print(sum(temperatures_C))\n",
    "print(len(temperatures_C))\n",
    "average = sum(temperatures_C)/len(temperatures_C)\n",
    "print('Average temperature of the day is', average)"
   ]
  },
  {
   "cell_type": "markdown",
   "metadata": {},
   "source": [
    "#### 5. Imagine that there was a sensor failure at 3am and the data for that specific hour was not recorded. How would you estimate the missing value? Replace the current value of the list at 3am for an estimation. "
   ]
  },
  {
   "cell_type": "code",
   "execution_count": 33,
   "metadata": {
    "collapsed": false
   },
   "outputs": [
    {
     "name": "stdout",
     "output_type": "stream",
     "text": [
      "Estimated temperature at 3am is 62.0\n"
     ]
    }
   ],
   "source": [
    "temperatures_C = [33, 66, 65, 0, 59, 60, 62, 64, 70, 76, 80, 81, 80, 83, 90, 79, 61, 53, 50, 49, 53, 48, 45, 39]\n",
    "estimate_3am = (temperatures_C[2]+temperatures_C[4])/2\n",
    "print('Estimated temperature at 3am is', estimate_3am)"
   ]
  },
  {
   "cell_type": "markdown",
   "metadata": {},
   "source": [
    "#### 6. Bonus: the maintenance staff is from the United States and does not understand the international metric system. Help them by converting the temperatures from Celsius to Fahrenheit.\n",
    "To know more about temperature conversion check this [link](https://en.wikipedia.org/wiki/Conversion_of_units_of_temperature).\n",
    "\n",
    "**Formula**: \n",
    "\n",
    "$F = 1.8 * C + 32$"
   ]
  },
  {
   "cell_type": "code",
   "execution_count": 22,
   "metadata": {
    "collapsed": false
   },
   "outputs": [
    {
     "name": "stdout",
     "output_type": "stream",
     "text": [
      "A list of temperatures in Fahrenheit [91.4, 150.8, 149.0, 32.0, 138.2, 140.0, 143.6, 147.2, 158.0, 168.8, 176.0, 177.8, 176.0, 181.4, 194.0, 174.2, 141.8, 127.4, 122.0, 120.2, 127.4, 118.4, 113.0, 102.2]\n"
     ]
    }
   ],
   "source": [
    "temperatures_C = [33, 66, 65, 0, 59, 60, 62, 64, 70, 76, 80, 81, 80, 83, 90, 79, 61, 53, 50, 49, 53, 48, 45, 39]\n",
    "temperatures_F = []\n",
    "\n",
    "def CtoF(temperature):\n",
    "    return 1.8*temperature+32\n",
    "#testing: print(CtoF(65))\n",
    "\n",
    "for temperature in temperatures_C:\n",
    "    temperature = CtoF(temperature)\n",
    "    temperature = round(temperature,2)\n",
    "    temperatures_F.append(temperature)\n",
    "    \n",
    "print('A list of temperatures in Fahrenheit', temperatures_F)"
   ]
  },
  {
   "cell_type": "markdown",
   "metadata": {},
   "source": [
    "#### 7. Make a decision!\n",
    "Now it's time to make a decision taking into account what you have seen until now. \n",
    "\n",
    "Remember that if one of the following events occurs, then the cooling system needs to be replaced for a new one to avoid damaging the processor.\n",
    "* More than 4 temperatures are greater than or equal to 70ºC.\n",
    "* Any temperature is above 80ºC.\n",
    "* The average temperature exceeds 65ºC.\n",
    "\n",
    "#### To make your decision, check if any of the three conditions above is met. You might need to use some of the variables you created in steps 1 to 6. Print a message to show if the cooling system needs to be changed or not."
   ]
  },
  {
   "cell_type": "code",
   "execution_count": 26,
   "metadata": {
    "collapsed": false
   },
   "outputs": [
    {
     "name": "stdout",
     "output_type": "stream",
     "text": [
      "Here is a list of temperatures greater than or equal to 70C [70, 76, 80, 81, 80, 83, 90, 79]\n",
      "More than 4 temperatures are greater than or equal to 70C, thus the cooling system must be replaced.\n",
      "\n",
      "There are 3 temperatures above 80C, thus the cooling system must be replaced.\n",
      "\n"
     ]
    }
   ],
   "source": [
    "temperatures_C = [33, 66, 65, 0, 59, 60, 62, 64, 70, 76, 80, 81, 80, 83, 90, 79, 61, 53, 50, 49, 53, 48, 45, 39]\n",
    "temperatures_70C = []\n",
    "tempabove80C = 0\n",
    "\n",
    "for temperature in temperatures_C:\n",
    "    if temperature >= 70:\n",
    "        temperatures_70C.append(temperature)\n",
    "print('Here is a list of temperatures greater than or equal to 70C', temperatures_70C)\n",
    "\n",
    "if len(temperatures_70C) >= 4:\n",
    "    print('More than 4 temperatures are greater than or equal to 70C, thus the cooling system must be replaced.')\n",
    "\n",
    "for temperature in temperatures_C:\n",
    "    if temperature > 80:\n",
    "        tempabove80C += 1\n",
    "print()\n",
    "if tempabove80C >= 1:\n",
    "    print('There are', tempabove80C,'temperatures above 80C, thus the cooling system must be replaced.')\n",
    "print()\n",
    "\n",
    "average = sum(temperatures_C)/len(temperatures_C)\n",
    "\n",
    "if average > 65:\n",
    "    print('The temperature is', average, 'thus the cooling system must be replaced.')"
   ]
  },
  {
   "cell_type": "markdown",
   "metadata": {},
   "source": [
    "## Bonus\n",
    "\n",
    "The company has decided that the decision you made is not valid. They want you to analyze the data again but this time, the conditions that need to be met in order to change the cooling system are different.\n",
    "\n",
    "This time, if one of the following events occurs, then the cooling system needs to be replaced:\n",
    "* The temperature is greater than 70ºC during more than 4 consecutive hours.\n",
    "* Any temperature is above 80ºC.\n",
    "* The average temperature exceeds 65ºC.\n",
    "\n",
    "Follow the steps so that you can make the decision.\n",
    "\n",
    "#### 1. Create a list with the hours where the temperature is greater than 70ºC. Store it in a variable."
   ]
  },
  {
   "cell_type": "code",
   "execution_count": 27,
   "metadata": {
    "collapsed": false
   },
   "outputs": [
    {
     "name": "stdout",
     "output_type": "stream",
     "text": [
      "List of hours above 70C [9, 10, 11, 12, 13, 14, 15]\n"
     ]
    }
   ],
   "source": [
    "temperatures_C = [33, 66, 65, 0, 59, 60, 62, 64, 70, 76, 80, 81, 80, 83, 90, 79, 61, 53, 50, 49, 53, 48, 45, 39]\n",
    "hours_above70C = []\n",
    "\n",
    "for i in range(0,len(temperatures_C)):\n",
    "    temperature = temperatures_C[i]\n",
    "    if temperature > 70:\n",
    "        hours_above70C.append(i)\n",
    "        \n",
    "print('List of hours above 70C', hours_above70C)"
   ]
  },
  {
   "cell_type": "markdown",
   "metadata": {},
   "source": [
    "#### 2. Check if the list you created in step 1 has more than 4 consecutive hours. "
   ]
  },
  {
   "cell_type": "code",
   "execution_count": 36,
   "metadata": {
    "collapsed": false
   },
   "outputs": [
    {
     "name": "stdout",
     "output_type": "stream",
     "text": [
      "List of hours above 70C [9, 10, 11, 12, 13, 14, 15]\n",
      "The temperature is greater than 70C during more than 4 hours\n"
     ]
    }
   ],
   "source": [
    "temperatures_C = [33, 66, 65, 0, 59, 60, 62, 64, 70, 76, 80, 81, 80, 83, 90, 79, 61, 53, 50, 49, 53, 48, 45, 39]\n",
    "hours_above70C = []\n",
    "four_in_arow = 0\n",
    "\n",
    "for i in range(0,len(temperatures_C)):\n",
    "    temperature = temperatures_C[i]\n",
    "    if temperature > 70:\n",
    "        hours_above70C.append(i)\n",
    "        \n",
    "for i in range(0,len(temperatures_C)):\n",
    "    temperature = temperatures_C[i]\n",
    "    if temperature > 70:\n",
    "        four_in_arow += 1\n",
    "    else:\n",
    "        four_in_arow = 0\n",
    "    if four_in_arow == 4:\n",
    "        break\n",
    "        \n",
    "print('List of hours above 70C', hours_above70C)\n",
    "print('The temperature is greater than 70C during more than', four_in_arow, 'hours')"
   ]
  },
  {
   "cell_type": "markdown",
   "metadata": {},
   "source": [
    "#### 3. Make the decision!\n",
    "To make your decision, check if any of the three conditions is met. Print a message to show if the cooling system needs to be changed or not."
   ]
  },
  {
   "cell_type": "code",
   "execution_count": 25,
   "metadata": {
    "collapsed": false
   },
   "outputs": [
    {
     "name": "stdout",
     "output_type": "stream",
     "text": [
      "The temperature is greater than 70C during more than 4 hours. Therefore, the cooling system needs to be changed.\n",
      "\n",
      "There are 3 temperatures above 80C, thus the cooling system needs to be changed.\n",
      "\n"
     ]
    }
   ],
   "source": [
    "temperatures_C = [33, 66, 65, 0, 59, 60, 62, 64, 70, 76, 80, 81, 80, 83, 90, 79, 61, 53, 50, 49, 53, 48, 45, 39]\n",
    "hours_above70C = []\n",
    "four_in_arow = 0\n",
    "tempabove80C = 0\n",
    "\n",
    "for i in range(0,len(temperatures_C)):\n",
    "    temperature = temperatures_C[i]\n",
    "    if temperature > 70:\n",
    "        four_in_arow += 1\n",
    "    else:\n",
    "        four_in_arow = 0\n",
    "    if four_in_arow == 4:\n",
    "        break\n",
    "        \n",
    "print('The temperature is greater than 70C during more than', four_in_arow, 'hours. Therefore, the cooling system needs to be changed.')\n",
    "print()\n",
    "\n",
    "for temperature in temperatures_C:\n",
    "    if temperature > 80:\n",
    "        tempabove80C += 1\n",
    "        \n",
    "if tempabove80C >= 1:\n",
    "    print('There are', tempabove80C,'temperatures above 80C, thus the cooling system needs to be changed.')\n",
    "print()\n",
    "\n",
    "average = sum(temperatures_C)/len(temperatures_C)\n",
    "\n",
    "if average > 65:\n",
    "    print('The temperature is', average, 'thus the cooling system needs to be changed.')"
   ]
  },
  {
   "cell_type": "markdown",
   "metadata": {},
   "source": [
    "#### 4. Find the average value of the temperature lists (ºC and ºF). What is the relation between both average values?"
   ]
  },
  {
   "cell_type": "code",
   "execution_count": 7,
   "metadata": {
    "collapsed": false
   },
   "outputs": [
    {
     "name": "stdout",
     "output_type": "stream",
     "text": [
      "Temperatures_F list [91.4, 150.8, 149.0, 32.0, 138.2, 140.0, 143.6, 147.2, 158.0, 168.8, 176.0, 177.8, 176.0, 181.4, 194.0, 174.2, 141.8, 127.4, 122.0, 120.2, 127.4, 118.4, 113.0, 102.2]\n",
      "\n",
      "Average value of the temperature list C is 60.25\n",
      "Average value of the temperature list F is 140.45\n",
      "\n",
      "The average value number of each list is the conversion of Celsius to Fahrenheit and vice versa.\n"
     ]
    }
   ],
   "source": [
    "temperatures_C = [33, 66, 65, 0, 59, 60, 62, 64, 70, 76, 80, 81, 80, 83, 90, 79, 61, 53, 50, 49, 53, 48, 45, 39]\n",
    "temperatures_F = []\n",
    "\n",
    "def CtoF(temperature):\n",
    "    return 1.8*temperature+32\n",
    "\n",
    "for temperature in temperatures_C:\n",
    "    temperature = CtoF(temperature)\n",
    "    temperature = round(temperature,2)\n",
    "    temperatures_F.append(temperature)\n",
    "    \n",
    "print('Temperatures_F list', temperatures_F)\n",
    "print()\n",
    "average_tempC = sum(temperatures_C)/len(temperatures_C)\n",
    "print('Average value of the temperature list C is', average_tempC)\n",
    "average_tempF = sum(temperatures_F)/len(temperatures_F)\n",
    "print('Average value of the temperature list F is', average_tempF)\n",
    "print()\n",
    "print('The average value number of each list is the conversion of Celsius to Fahrenheit and vice versa.')"
   ]
  },
  {
   "cell_type": "markdown",
   "metadata": {},
   "source": [
    "#### 5. Find the standard deviation of the temperature lists (ºC and ºF). What is the relation between both standard deviations?"
   ]
  },
  {
   "cell_type": "code",
   "execution_count": 10,
   "metadata": {
    "collapsed": false
   },
   "outputs": [
    {
     "name": "stdout",
     "output_type": "stream",
     "text": [
      "Temperatures_F list [91.4, 150.8, 149.0, 32.0, 138.2, 140.0, 143.6, 147.2, 158.0, 168.8, 176.0, 177.8, 176.0, 181.4, 194.0, 174.2, 141.8, 127.4, 122.0, 120.2, 127.4, 118.4, 113.0, 102.2]\n",
      "\n",
      "Average value of the temperature list C is 60.25\n",
      "Standard deviation of the temperature list C is 49.24\n",
      "\n",
      "Average value of the temperature list F is 140.45\n",
      "Standard deviation of the temperature list F is 129.14\n",
      "\n",
      "The average value number of each list is the conversion of Celsius to Fahrenheit and vice versa.\n",
      "The average standard deviation of each list is 93% conversion number of Celsius to Fahrenheit & vice versa.\n"
     ]
    }
   ],
   "source": [
    "temperatures_C = [33, 66, 65, 0, 59, 60, 62, 64, 70, 76, 80, 81, 80, 83, 90, 79, 61, 53, 50, 49, 53, 48, 45, 39]\n",
    "temperatures_F = []\n",
    "sum_of_squaresC = 0\n",
    "sum_of_squaresF = 0\n",
    "import math\n",
    "\n",
    "#Standard Deviation formula: Q=math.sqrt((Sum(Xi-u)POWER2)/N)\n",
    "#Xi=each value\n",
    "#u=mean/average\n",
    "#N=total number of temperatures\n",
    "#First find sum_of_squares followed by standard deviation\n",
    "\n",
    "def CtoF(temperature):\n",
    "    return 1.8*temperature+32\n",
    "\n",
    "for temperature in temperatures_C:\n",
    "    temperature = CtoF(temperature)\n",
    "    temperature = round(temperature,2)\n",
    "    temperatures_F.append(temperature)\n",
    "    \n",
    "print('Temperatures_F list', temperatures_F)\n",
    "print()\n",
    "average_tempC = sum(temperatures_C)/len(temperatures_C)\n",
    "print('Average value of the temperature list C is', average_tempC)\n",
    "\n",
    "for i in range(0,len(temperatures_C)):\n",
    "    sum_of_squaresC = sum_of_squaresC+((i-average_tempC)**2)\n",
    "    \n",
    "#print(round(sum_of_squaresC,2))\n",
    "\n",
    "stand_devC = math.sqrt(sum_of_squaresC/len(temperatures_C))\n",
    "\n",
    "print('Standard deviation of the temperature list C is', round(stand_devC,2))\n",
    "print()\n",
    "average_tempF = sum(temperatures_F)/len(temperatures_F)\n",
    "print('Average value of the temperature list F is', average_tempF)\n",
    "\n",
    "for i in range(0,len(temperatures_F)):\n",
    "    sum_of_squaresF = sum_of_squaresF+((i-average_tempF)**2)\n",
    "    \n",
    "#print(round(sum_of_squaresF,2))\n",
    "\n",
    "stand_devF = math.sqrt(sum_of_squaresF/len(temperatures_F))\n",
    "\n",
    "print('Standard deviation of the temperature list F is', round(stand_devF,2))\n",
    "print()\n",
    "print('The average value number of each list is the conversion of Celsius to Fahrenheit and vice versa.')\n",
    "print('The average standard deviation of each list is 93% conversion number of Celsius to Fahrenheit & vice versa.')"
   ]
  },
  {
   "cell_type": "code",
   "execution_count": null,
   "metadata": {
    "collapsed": true
   },
   "outputs": [],
   "source": []
  },
  {
   "cell_type": "code",
   "execution_count": null,
   "metadata": {
    "collapsed": true
   },
   "outputs": [],
   "source": []
  }
 ],
 "metadata": {
  "kernelspec": {
   "display_name": "Python 3",
   "language": "python",
   "name": "python3"
  },
  "language_info": {
   "codemirror_mode": {
    "name": "ipython",
    "version": 3
   },
   "file_extension": ".py",
   "mimetype": "text/x-python",
   "name": "python",
   "nbconvert_exporter": "python",
   "pygments_lexer": "ipython3",
   "version": "3.4.3"
  }
 },
 "nbformat": 4,
 "nbformat_minor": 2
}
