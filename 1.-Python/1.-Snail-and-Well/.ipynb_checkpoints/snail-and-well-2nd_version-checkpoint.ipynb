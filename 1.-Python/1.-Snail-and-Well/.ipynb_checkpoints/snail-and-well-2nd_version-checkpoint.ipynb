{
 "cells": [
  {
   "cell_type": "markdown",
   "metadata": {},
   "source": [
    "<img src=\"https://bit.ly/2VnXWr2\" width=\"100\" align=\"left\">"
   ]
  },
  {
   "cell_type": "markdown",
   "metadata": {},
   "source": [
    "# The Snail and the Well\n",
    "\n",
    "A snail falls at the bottom of a 125 cm well. Each day the snail rises 30 cm. But at night, while sleeping, slides 20 cm because the walls are wet. How many days does it take for the snail to escape the well?\n",
    "\n",
    "**Hint**: The snail gets out of the well when it surpasses the 125cm of height.\n",
    "\n",
    "## Tools\n",
    "\n",
    "1. Loop: **while**\n",
    "2. Conditional statements: **if-else**\n",
    "3. Function: **print()**\n",
    "\n",
    "## Tasks\n",
    "\n",
    "#### 1. Assign the challenge data to variables with representative names: `well_height`, `daily_distance`, `nightly_distance` and `snail_position`."
   ]
  },
  {
   "cell_type": "code",
   "execution_count": null,
   "metadata": {
    "collapsed": true
   },
   "outputs": [],
   "source": [
    "well_height = 125\n",
    "daily_distance = 30 \n",
    "nightly_distance = 20\n",
    "snail_position = 0"
   ]
  },
  {
   "cell_type": "markdown",
   "metadata": {},
   "source": [
    "#### 2. Create a variable `days` to keep count of the days that pass until the snail escapes the well. "
   ]
  },
  {
   "cell_type": "code",
   "execution_count": 3,
   "metadata": {
    "collapsed": false
   },
   "outputs": [],
   "source": [
    "days = 0"
   ]
  },
  {
   "cell_type": "markdown",
   "metadata": {},
   "source": [
    "#### 3. Find the solution to the challenge using the variables defined above. "
   ]
  },
  {
   "cell_type": "code",
   "execution_count": 2,
   "metadata": {
    "collapsed": false
   },
   "outputs": [
    {
     "name": "stdout",
     "output_type": "stream",
     "text": [
      "13\n"
     ]
    }
   ],
   "source": [
    "well_height = 125\n",
    "daily_distance = 30 \n",
    "nightly_distance = 20\n",
    "snail_position = 0\n",
    "days = 0\n",
    "\n",
    "while snail_position < well_height:\n",
    "    snail_position = snail_position+daily_distance-nightly_distance\n",
    "    days += 1\n",
    "    \n",
    "print(days)"
   ]
  },
  {
   "cell_type": "markdown",
   "metadata": {},
   "source": [
    "#### 4. Print the solution."
   ]
  },
  {
   "cell_type": "code",
   "execution_count": 3,
   "metadata": {
    "collapsed": false
   },
   "outputs": [
    {
     "name": "stdout",
     "output_type": "stream",
     "text": [
      "The snail is out of the well on day 13\n"
     ]
    }
   ],
   "source": [
    "print('The snail is out of the well on day', days)"
   ]
  },
  {
   "cell_type": "markdown",
   "metadata": {},
   "source": [
    "## Bonus\n",
    "The distance traveled by the snail each day is now defined by a list.\n",
    "```\n",
    "advance_cm = [30, 21, 33, 77, 44, 45, 23, 45, 12, 34, 55]\n",
    "```\n",
    "On the first day, the snail rises 30cm but during the night it slides 20cm. On the second day, the snail rises 21cm but during the night it slides 20cm, and so on. \n",
    "\n",
    "#### 1. How many days does it take for the snail to escape the well?\n",
    "Follow the same guidelines as in the previous challenge.\n",
    "\n",
    "**Hint**: Remember that the snail gets out of the well when it surpasses the 125cm of height."
   ]
  },
  {
   "cell_type": "code",
   "execution_count": 16,
   "metadata": {
    "collapsed": false
   },
   "outputs": [
    {
     "name": "stdout",
     "output_type": "stream",
     "text": [
      "The snail gets out of the well on day 6\n"
     ]
    }
   ],
   "source": [
    "advance_cm = [30, 21, 33, 77, 44, 45, 23, 45, 12, 34, 55]\n",
    "well_height = 125\n",
    "nightly_distance = 20\n",
    "snail_position = 0\n",
    "days = 0\n",
    "\n",
    "while snail_position < well_height:\n",
    "    snail_position = snail_position+advance_cm[days]-nightly_distance\n",
    "    days += 1\n",
    "    \n",
    "print('The snail gets out of the well on day', days)"
   ]
  },
  {
   "cell_type": "markdown",
   "metadata": {},
   "source": [
    "#### 2. What is its maximum displacement in one day? And its minimum? Calculate the displacement using only the travel distance of the days used to get out of the well. \n",
    "**Hint**: Remember that displacement means the total distance risen taking into account that the snail slides at night.  "
   ]
  },
  {
   "cell_type": "code",
   "execution_count": 22,
   "metadata": {
    "collapsed": false
   },
   "outputs": [
    {
     "name": "stdout",
     "output_type": "stream",
     "text": [
      "Maximum displacement is 57\n",
      "Minimum displacement is 1\n"
     ]
    }
   ],
   "source": [
    "advance_cm = [30, 21, 33, 77, 44, 45, 23, 45, 12, 34, 55]\n",
    "maximum = advance_cm[0]\n",
    "minimum = advance_cm[0]\n",
    "nightly_distance = 20\n",
    "\n",
    "for i in range(0,days):\n",
    "    if advance_cm[i] > maximum:\n",
    "        maximum = advance_cm[i]\n",
    "    if advance_cm[i] < minimum:\n",
    "        minimum = advance_cm[i]\n",
    "\n",
    "maximum = maximum - nightly_distance\n",
    "minimum = minimum - nightly_distance\n",
    "\n",
    "print('Maximum displacement is', maximum)\n",
    "print('Minimum displacement is', minimum)"
   ]
  },
  {
   "cell_type": "markdown",
   "metadata": {},
   "source": [
    "#### 3. What is its average progress? Take into account the snail slides at night."
   ]
  },
  {
   "cell_type": "code",
   "execution_count": 34,
   "metadata": {
    "collapsed": false
   },
   "outputs": [
    {
     "name": "stdout",
     "output_type": "stream",
     "text": [
      "Snail total distance in 6 days is 130\n",
      "Snail average progress is 21.67\n"
     ]
    }
   ],
   "source": [
    "advance_cm = [30, 21, 33, 77, 44, 45, 23, 45, 12, 34, 55]\n",
    "well_height = 125\n",
    "nightly_distance = 20\n",
    "snail_position = 0\n",
    "days = 0\n",
    "total = 0\n",
    "\n",
    "while snail_position < well_height:\n",
    "    snail_position = snail_position+advance_cm[days]-nightly_distance\n",
    "    days += 1\n",
    "\n",
    "for i in range (0,days):\n",
    "    total = total+advance_cm[i]-nightly_distance\n",
    "\n",
    "print('Snail total distance in 6 days is', total)\n",
    "average = total/days\n",
    "print('Snail average progress is', round(average,2))"
   ]
  },
  {
   "cell_type": "markdown",
   "metadata": {},
   "source": [
    "#### 4. What is the standard deviation of its displacement? Take into account the snail slides at night."
   ]
  },
  {
   "cell_type": "code",
   "execution_count": 17,
   "metadata": {
    "collapsed": false
   },
   "outputs": [
    {
     "name": "stdout",
     "output_type": "stream",
     "text": [
      "Snail average progress is 21.67\n",
      "Sum of squares is 1903.33\n",
      "\n",
      "Standard deviation is 17.81\n"
     ]
    }
   ],
   "source": [
    "#Standard Deviation formula: Q=SQRT((Sum(Xi-u)POWER2)/N)\n",
    "#u=mean\n",
    "#N=size of population\n",
    "#Xi=each value from the population\n",
    "#Q=population standard deviation\n",
    "import math\n",
    "advance_cm = [30, 21, 33, 77, 44, 45, 23, 45, 12, 34, 55]\n",
    "well_height = 125\n",
    "nightly_distance = 20\n",
    "snail_position = 0\n",
    "days = 0\n",
    "total = 0\n",
    "sum_of_squares = 0\n",
    "\n",
    "while snail_position < well_height:\n",
    "    snail_position = snail_position+advance_cm[days]-nightly_distance\n",
    "    days += 1\n",
    "\n",
    "for i in range (0,days):\n",
    "    total = total+advance_cm[i]-nightly_distance\n",
    "\n",
    "average = total/days\n",
    "print('Snail average progress is', round(average,2))\n",
    "\n",
    "for i in range (0,days):\n",
    "    sum_of_squares = sum_of_squares+(((advance_cm[i]-nightly_distance)-average)**2)\n",
    "    \n",
    "print('Sum of squares is', round(sum_of_squares,2))\n",
    "stand_dev = math.sqrt(sum_of_squares/days)\n",
    "print()\n",
    "print('Standard deviation is', round(stand_dev,2))\n",
    "    "
   ]
  },
  {
   "cell_type": "code",
   "execution_count": null,
   "metadata": {
    "collapsed": true
   },
   "outputs": [],
   "source": []
  },
  {
   "cell_type": "code",
   "execution_count": null,
   "metadata": {
    "collapsed": true
   },
   "outputs": [],
   "source": []
  },
  {
   "cell_type": "code",
   "execution_count": null,
   "metadata": {
    "collapsed": true
   },
   "outputs": [],
   "source": []
  }
 ],
 "metadata": {
  "kernelspec": {
   "display_name": "Python 3",
   "language": "python",
   "name": "python3"
  },
  "language_info": {
   "codemirror_mode": {
    "name": "ipython",
    "version": 3
   },
   "file_extension": ".py",
   "mimetype": "text/x-python",
   "name": "python",
   "nbconvert_exporter": "python",
   "pygments_lexer": "ipython3",
   "version": "3.4.3"
  }
 },
 "nbformat": 4,
 "nbformat_minor": 2
}
