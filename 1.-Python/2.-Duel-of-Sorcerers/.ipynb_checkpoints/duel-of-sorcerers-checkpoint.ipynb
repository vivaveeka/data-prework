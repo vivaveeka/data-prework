{
 "cells": [
  {
   "cell_type": "markdown",
   "metadata": {},
   "source": [
    "<img src=\"https://bit.ly/2VnXWr2\" width=\"100\" align=\"left\">"
   ]
  },
  {
   "cell_type": "markdown",
   "metadata": {},
   "source": [
    "# Duel of Sorcerers\n",
    "You are witnessing an epic battle between two powerful sorcerers: Gandalf and Saruman. Each sorcerer has 10 spells of variable power in their mind and they are going to throw them one after the other. The winner of the duel will be the one who wins more of those clashes between spells. Spells are represented as a list of 10 integers whose value equals the power of the spell.\n",
    "```\n",
    "gandalf = [10, 11, 13, 30, 22, 11, 10, 33, 22, 22]\n",
    "saruman = [23, 66, 12, 43, 12, 10, 44, 23, 12, 17]\n",
    "```\n",
    "For example:\n",
    "- The first clash is won by Saruman: 10 against 23.\n",
    "- The second clash is won by Saruman: 11 against 66.\n",
    "- ...\n",
    "\n",
    "You will create two variables, one for each sorcerer, where the sum of clashes won will be stored. Depending on which variable is greater at the end of the duel, you will show one of the following three results on the screen:\n",
    "* Gandalf wins\n",
    "* Saruman wins\n",
    "* Tie\n",
    "\n",
    "<img src=\"images/content_lightning_bolt_big.jpg\" width=\"400\">"
   ]
  },
  {
   "cell_type": "markdown",
   "metadata": {},
   "source": [
    "## Tools\n",
    "You don't necessarily need to use all the tools. Maybe you opt to use some of them or completely different ones, they are given to help you shape the exercise. Programming exercises can be solved in many different ways.\n",
    "\n",
    "1. Data structures: **lists, dictionaries**\n",
    "2. Loop: **for loop**\n",
    "3. Conditional statements: **if-elif-else**\n",
    "4. Functions: **range(), len(), print()**\n",
    "\n",
    "## Tasks\n",
    "\n",
    "#### 1. Create two variables called `gandalf` and `saruman` and assign them the spell power lists. Create a variable called `spells` to store the number of spells that the sorcerers cast. "
   ]
  },
  {
   "cell_type": "code",
   "execution_count": 3,
   "metadata": {
    "collapsed": true
   },
   "outputs": [],
   "source": [
    "gandalf = [10, 11, 13, 30, 22, 11, 10, 33, 22, 22]\n",
    "saruman = [23, 66, 12, 43, 12, 10, 44, 23, 12, 17]\n",
    "spells = 0"
   ]
  },
  {
   "cell_type": "markdown",
   "metadata": {},
   "source": [
    "#### 2. Create two variables called `gandalf_wins` and `saruman_wins`. Set both of them to 0. \n",
    "You will use these variables to count the number of clashes each sorcerer wins. "
   ]
  },
  {
   "cell_type": "code",
   "execution_count": null,
   "metadata": {
    "collapsed": true
   },
   "outputs": [],
   "source": [
    "gandalf_wins = 0 \n",
    "suraman_wins = 0"
   ]
  },
  {
   "cell_type": "markdown",
   "metadata": {},
   "source": [
    "#### 3. Using the lists of spells of both sorcerers, update variables `gandalf_wins` and `saruman_wins` to count the number of times each sorcerer wins a clash. "
   ]
  },
  {
   "cell_type": "code",
   "execution_count": 24,
   "metadata": {
    "collapsed": false
   },
   "outputs": [
    {
     "name": "stdout",
     "output_type": "stream",
     "text": [
      "Gandalf wins by 6\n",
      "Saruman wins by 4\n"
     ]
    }
   ],
   "source": [
    "gandalf = [10, 11, 13, 30, 22, 11, 10, 33, 22, 22]\n",
    "saruman = [23, 66, 12, 43, 12, 10, 44, 23, 12, 17]\n",
    "spells = 0\n",
    "gandalf_wins = 0 \n",
    "saruman_wins = 0\n",
    "\n",
    "for i in range(0,len(gandalf)):\n",
    "    if gandalf[i]>saruman[i]:\n",
    "        gandalf_wins = gandalf_wins+1\n",
    "    if saruman[i]>gandalf[i]:\n",
    "        saruman_wins = saruman_wins+1\n",
    "        \n",
    "print('Gandalf wins by', gandalf_wins)\n",
    "print('Saruman wins by', saruman_wins)"
   ]
  },
  {
   "cell_type": "markdown",
   "metadata": {},
   "source": [
    "#### 4. Who won the battle?\n",
    "Print `Gandalf wins`, `Saruman wins` or `Tie` depending on the result. "
   ]
  },
  {
   "cell_type": "code",
   "execution_count": 31,
   "metadata": {
    "collapsed": false
   },
   "outputs": [
    {
     "name": "stdout",
     "output_type": "stream",
     "text": [
      "Gandalf wins\n"
     ]
    }
   ],
   "source": [
    "if gandalf_wins > saruman_wins:\n",
    "    print('Gandalf wins')\n",
    "elif saruman_wins > gandalf_wins:\n",
    "    print('Saruman wins')\n",
    "else:\n",
    "    print('Tie')\n",
    "    "
   ]
  },
  {
   "cell_type": "markdown",
   "metadata": {},
   "source": [
    "## Bonus\n",
    "\n",
    "In this bonus challenge, you'll need to check the winner of the battle but this time, a sorcerer wins if he succeeds in winning 3 spell clashes in a row.\n",
    "\n",
    "Also, the spells now have a name and there is a dictionary that associates that name to a power.\n",
    "\n",
    "```\n",
    "POWER = {\n",
    "    'Fireball': 50, \n",
    "    'Lightning bolt': 40, \n",
    "    'Magic arrow': 10, \n",
    "    'Black Tentacles': 25, \n",
    "    'Contagion': 45\n",
    "}\n",
    "\n",
    "gandalf = ['Fireball', 'Lightning bolt', 'Lightning bolt', 'Magic arrow', 'Fireball', \n",
    "           'Magic arrow', 'Lightning bolt', 'Fireball', 'Fireball', 'Fireball']\n",
    "saruman = ['Contagion', 'Contagion', 'Black Tentacles', 'Fireball', 'Black Tentacles', \n",
    "           'Lightning bolt', 'Magic arrow', 'Contagion', 'Magic arrow', 'Magic arrow']\n",
    "```\n",
    "\n",
    "#### 1. Create variables `POWER`, `gandalf` and `saruman` as seen above. Create a variable called `spells` to store the number of spells that the sorcerers cast. "
   ]
  },
  {
   "cell_type": "code",
   "execution_count": null,
   "metadata": {
    "collapsed": true
   },
   "outputs": [],
   "source": [
    "POWER = {'Fireball': 50, 'Lightning bolt': 40, 'Magic arrow': 10, 'Black Tentacles': 25, 'Contagion': 45}\n",
    "gandalf_spells = ['Fireball', 'Lightning bolt', 'Lightning bolt', 'Magic arrow', 'Fireball','Magic arrow', \n",
    "'Lightning bolt', 'Fireball', 'Fireball', 'Fireball']\n",
    "saruman_spells = ['Contagion', 'Contagion', 'Black Tentacles', 'Fireball', 'Black Tentacles', \n",
    "'Lightning bolt', 'Magic arrow', 'Contagion', 'Magic arrow', 'Magic arrow']"
   ]
  },
  {
   "cell_type": "markdown",
   "metadata": {},
   "source": [
    "#### 2. Create two variables called `gandalf_wins` and `saruman_wins`. Set both of them to 0. "
   ]
  },
  {
   "cell_type": "code",
   "execution_count": 1,
   "metadata": {
    "collapsed": true
   },
   "outputs": [],
   "source": [
    "gandalf_wins = 0\n",
    "saruman_wins = 0"
   ]
  },
  {
   "cell_type": "markdown",
   "metadata": {},
   "source": [
    "#### 3. Create two variables called `gandalf_power` and `saruman_power` to store the list of spell powers of each sorcerer."
   ]
  },
  {
   "cell_type": "code",
   "execution_count": 3,
   "metadata": {
    "collapsed": false
   },
   "outputs": [],
   "source": [
    "gandalf_power = 0\n",
    "saruman_power = 0"
   ]
  },
  {
   "cell_type": "markdown",
   "metadata": {},
   "source": [
    "#### 4. The battle starts! Using the variables you've created above, code the execution of spell clashes. Remember that a sorcerer wins if he succeeds in winning 3 spell clashes in a row. \n",
    "If a clash ends up in a tie, the counter of wins in a row is not restarted to 0. Remember to print who is the winner of the battle. "
   ]
  },
  {
   "cell_type": "code",
   "execution_count": 1,
   "metadata": {
    "collapsed": false
   },
   "outputs": [
    {
     "name": "stdout",
     "output_type": "stream",
     "text": [
      "round 1\n",
      "gandalf spell is Fireball\n",
      "saruman spell is Contagion\n",
      "gandalf power is 50\n",
      "saruman power is 45\n",
      "round 2\n",
      "gandalf spell is Lightning bolt\n",
      "saruman spell is Contagion\n",
      "gandalf power is 40\n",
      "saruman power is 45\n",
      "round 3\n",
      "gandalf spell is Lightning bolt\n",
      "saruman spell is Black Tentacles\n",
      "gandalf power is 40\n",
      "saruman power is 25\n",
      "round 4\n",
      "gandalf spell is Magic arrow\n",
      "saruman spell is Fireball\n",
      "gandalf power is 10\n",
      "saruman power is 50\n",
      "round 5\n",
      "gandalf spell is Fireball\n",
      "saruman spell is Black Tentacles\n",
      "gandalf power is 50\n",
      "saruman power is 25\n",
      "round 6\n",
      "gandalf spell is Magic arrow\n",
      "saruman spell is Lightning bolt\n",
      "gandalf power is 10\n",
      "saruman power is 40\n",
      "round 7\n",
      "gandalf spell is Lightning bolt\n",
      "saruman spell is Magic arrow\n",
      "gandalf power is 40\n",
      "saruman power is 10\n",
      "round 8\n",
      "gandalf spell is Fireball\n",
      "saruman spell is Contagion\n",
      "gandalf power is 50\n",
      "saruman power is 45\n",
      "round 9\n",
      "gandalf spell is Fireball\n",
      "saruman spell is Magic arrow\n",
      "gandalf power is 50\n",
      "saruman power is 10\n",
      "\n",
      "Gandalf wins\n"
     ]
    }
   ],
   "source": [
    "POWER = {'Fireball': 50, 'Lightning bolt': 40, 'Magic arrow': 10, 'Black Tentacles': 25, 'Contagion': 45}\n",
    "\n",
    "gandalf_spells = ['Fireball', 'Lightning bolt', 'Lightning bolt', 'Magic arrow', 'Fireball','Magic arrow', \n",
    "'Lightning bolt', 'Fireball', 'Fireball', 'Fireball']\n",
    "\n",
    "saruman_spells = ['Contagion', 'Contagion', 'Black Tentacles', 'Fireball', 'Black Tentacles', \n",
    "'Lightning bolt', 'Magic arrow', 'Contagion', 'Magic arrow', 'Magic arrow']\n",
    "\n",
    "gandalf_wins = 0\n",
    "saruman_wins = 0\n",
    "gandalf_winsinarow = 0\n",
    "saruman_winsinarow = 0\n",
    "\n",
    "for i in range (0,len(gandalf_spells)):\n",
    "    gandalf_spell = gandalf_spells [i]\n",
    "    saruman_spell = saruman_spells [i]\n",
    "    print ('round', i + 1)\n",
    "    print ('gandalf spell is', gandalf_spell)\n",
    "    print ('saruman spell is', saruman_spell)\n",
    "    gandalf_power = POWER [gandalf_spell]\n",
    "    saruman_power = POWER [saruman_spell]\n",
    "    print ('gandalf power is', gandalf_power)\n",
    "    print ('saruman power is', saruman_power)\n",
    "    if gandalf_power > saruman_power:\n",
    "        gandalf_winsinarow = gandalf_winsinarow+1\n",
    "        saruman_winsinarow = 0\n",
    "        if gandalf_winsinarow == 3:\n",
    "            break\n",
    "    if saruman_power > gandalf_power:\n",
    "        saruman_winsinarow = saruman_winsinarow+1\n",
    "        gandalf_winsinarow = 0\n",
    "        if saruman_winsinarow == 3:\n",
    "            break\n",
    "print()\n",
    "if gandalf_winsinarow > saruman_winsinarow:\n",
    "    print('Gandalf wins')\n",
    "elif saruman_winsinarow > gandalf_winsinarow:\n",
    "    print('Saruman wins')\n",
    "else:\n",
    "    print('Tie')\n"
   ]
  },
  {
   "cell_type": "markdown",
   "metadata": {},
   "source": [
    "#### 5. Find the average spell power of Gandalf and Saruman. "
   ]
  },
  {
   "cell_type": "code",
   "execution_count": 23,
   "metadata": {
    "collapsed": false
   },
   "outputs": [
    {
     "name": "stdout",
     "output_type": "stream",
     "text": [
      "Total spell power for Gandalf is 390\n",
      "Total spell power for Saruman is 305\n",
      "Average spell power of Gandalf and Saruman is 34.75\n"
     ]
    }
   ],
   "source": [
    "POWER = {'Fireball': 50, 'Lightning bolt': 40, 'Magic arrow': 10, 'Black Tentacles': 25, 'Contagion': 45}\n",
    "\n",
    "gandalf_spells = ['Fireball', 'Lightning bolt', 'Lightning bolt', 'Magic arrow', 'Fireball','Magic arrow', \n",
    "'Lightning bolt', 'Fireball', 'Fireball', 'Fireball']\n",
    "\n",
    "saruman_spells = ['Contagion', 'Contagion', 'Black Tentacles', 'Fireball', 'Black Tentacles', \n",
    "'Lightning bolt', 'Magic arrow', 'Contagion', 'Magic arrow', 'Magic arrow']\n",
    "\n",
    "total_gandalf = 0\n",
    "total_saruman = 0\n",
    "\n",
    "for i in range (0,len(gandalf_spells)):\n",
    "    gandalf_spell = gandalf_spells [i]\n",
    "    saruman_spell = saruman_spells [i]\n",
    "    gandalf_power = POWER [gandalf_spell]\n",
    "    saruman_power = POWER [saruman_spell]\n",
    "    total_gandalf = total_gandalf+gandalf_power\n",
    "    total_saruman = total_saruman+saruman_power\n",
    "\n",
    "average_spell_power = (total_gandalf+total_saruman)/(len(gandalf_spells)+len(saruman_spells))\n",
    "    \n",
    "print('Total spell power for Gandalf is', total_gandalf)\n",
    "print('Total spell power for Saruman is', total_saruman)\n",
    "print('Average spell power of Gandalf and Saruman is', average_spell_power)"
   ]
  },
  {
   "cell_type": "markdown",
   "metadata": {},
   "source": [
    "#### 6. Find the standard deviation of the spell power of Gandalf and Saruman. "
   ]
  },
  {
   "cell_type": "code",
   "execution_count": 3,
   "metadata": {
    "collapsed": false
   },
   "outputs": [
    {
     "name": "stdout",
     "output_type": "stream",
     "text": [
      "A list of all spells [50, 45, 40, 45, 40, 25, 10, 50, 50, 25, 10, 40, 40, 10, 50, 45, 50, 10, 50, 10]\n",
      "Total number of spells is 20\n",
      "Average spell power of Gandalf and Saruman is 34.75\n",
      "\n",
      "Sum of squares is 5073.75\n",
      "Standard deviation is 15.93\n"
     ]
    }
   ],
   "source": [
    "#Standard Deviation formula: Q=math.sqrt((Sum(Xi-u)POWER2)/N)\n",
    "#u=mean\n",
    "#N=total number of spells\n",
    "#Xi=each spell from the list\n",
    "#Q=population standard deviation\n",
    "\n",
    "POWER = {'Fireball': 50, 'Lightning bolt': 40, 'Magic arrow': 10, 'Black Tentacles': 25, 'Contagion': 45}\n",
    "\n",
    "gandalf_spells = ['Fireball', 'Lightning bolt', 'Lightning bolt', 'Magic arrow', 'Fireball','Magic arrow', \n",
    "'Lightning bolt', 'Fireball', 'Fireball', 'Fireball']\n",
    "\n",
    "saruman_spells = ['Contagion', 'Contagion', 'Black Tentacles', 'Fireball', 'Black Tentacles', \n",
    "'Lightning bolt', 'Magic arrow', 'Contagion', 'Magic arrow', 'Magic arrow']\n",
    "\n",
    "import math\n",
    "total_gandalf = 0\n",
    "total_saruman = 0\n",
    "sum_of_squares = 0\n",
    "len_forboth = len(gandalf_spells)+len(saruman_spells)\n",
    "all_spells = []\n",
    "\n",
    "for i in range (0,len(gandalf_spells)):\n",
    "    gandalf_spell = gandalf_spells [i]\n",
    "    saruman_spell = saruman_spells [i]\n",
    "    gandalf_power = POWER [gandalf_spell]\n",
    "    saruman_power = POWER [saruman_spell]\n",
    "    all_spells.append(gandalf_power)\n",
    "    all_spells.append(saruman_power)\n",
    "    total_gandalf = total_gandalf+gandalf_power\n",
    "    total_saruman = total_saruman+saruman_power\n",
    "\n",
    "average_spell_power = (total_gandalf+total_saruman)/(len(gandalf_spells)+len(saruman_spells))  \n",
    "    \n",
    "for spell in all_spells:\n",
    "    sum_of_squares = sum_of_squares+((spell-average_spell_power)**2)\n",
    "    \n",
    "\n",
    "print('A list of all spells', all_spells)\n",
    "print('Total number of spells is', len_forboth)\n",
    "print('Average spell power of Gandalf and Saruman is', average_spell_power)\n",
    "print()\n",
    "\n",
    "stand_dev = math.sqrt(sum_of_squares/len_forboth)\n",
    "\n",
    "print('Sum of squares is', sum_of_squares)\n",
    "print('Standard deviation is', round(stand_dev,2))"
   ]
  },
  {
   "cell_type": "code",
   "execution_count": null,
   "metadata": {
    "collapsed": true
   },
   "outputs": [],
   "source": []
  },
  {
   "cell_type": "code",
   "execution_count": null,
   "metadata": {
    "collapsed": true
   },
   "outputs": [],
   "source": []
  }
 ],
 "metadata": {
  "kernelspec": {
   "display_name": "Python 3",
   "language": "python",
   "name": "python3"
  },
  "language_info": {
   "codemirror_mode": {
    "name": "ipython",
    "version": 3
   },
   "file_extension": ".py",
   "mimetype": "text/x-python",
   "name": "python",
   "nbconvert_exporter": "python",
   "pygments_lexer": "ipython3",
   "version": "3.4.3"
  }
 },
 "nbformat": 4,
 "nbformat_minor": 2
}
