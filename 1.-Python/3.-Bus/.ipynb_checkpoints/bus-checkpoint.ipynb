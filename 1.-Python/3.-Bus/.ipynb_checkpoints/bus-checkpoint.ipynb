{
 "cells": [
  {
   "cell_type": "markdown",
   "metadata": {},
   "source": [
    "<img src=\"https://bit.ly/2VnXWr2\" width=\"100\" align=\"left\">"
   ]
  },
  {
   "cell_type": "markdown",
   "metadata": {},
   "source": [
    "# Bus\n",
    "\n",
    "This bus has a passenger entry and exit control system to monitor the number of occupants it carries and thus detect when there are too many.\n",
    "\n",
    "At each stop, the entry and exit of passengers is represented by a tuple consisting of two integer numbers.\n",
    "```\n",
    "bus_stop = (in, out)\n",
    "```\n",
    "The succession of stops is represented by a list of these tuples.\n",
    "```\n",
    "stops = [(in1, out1), (in2, out2), (in3, out3), (in4, out4)]\n",
    "```\n",
    "\n",
    "## Tools\n",
    "You don't necessarily need to use all the tools. Maybe you opt to use some of them or completely different ones, they are given to help you shape the exercise. Programming exercises can be solved in many different ways.\n",
    "* Data structures: **lists, tuples**\n",
    "* Loop: **while/for loops**\n",
    "* Functions: **min, max, len**\n",
    "\n",
    "## Tasks"
   ]
  },
  {
   "cell_type": "code",
   "execution_count": null,
   "metadata": {
    "collapsed": true
   },
   "outputs": [],
   "source": [
    "# Variables\n",
    "stops = [(10, 0), (4, 1), (3, 5), (3, 4), (5, 1), (1, 5), (5, 8), (4, 6), (2, 3)]"
   ]
  },
  {
   "cell_type": "markdown",
   "metadata": {},
   "source": [
    "#### 1. Calculate the number of stops."
   ]
  },
  {
   "cell_type": "code",
   "execution_count": 2,
   "metadata": {
    "collapsed": false
   },
   "outputs": [
    {
     "name": "stdout",
     "output_type": "stream",
     "text": [
      "The number of stops are 9\n"
     ]
    }
   ],
   "source": [
    "stops = [(10, 0), (4, 1), (3, 5), (3, 4), (5, 1), (1, 5), (5, 8), (4, 6), (2, 3)]\n",
    "print('The number of stops are', len(stops))"
   ]
  },
  {
   "cell_type": "markdown",
   "metadata": {},
   "source": [
    "#### 2. Assign to a variable a list whose elements are the number of passengers at each stop (in-out).\n",
    "Each item depends on the previous item in the list + in - out."
   ]
  },
  {
   "cell_type": "code",
   "execution_count": 52,
   "metadata": {
    "collapsed": false
   },
   "outputs": [
    {
     "name": "stdout",
     "output_type": "stream",
     "text": [
      "Number of passengers at each stop are [10, 13, 11, 10, 14, 10, 7, 5, 4]\n"
     ]
    }
   ],
   "source": [
    "stops = [(10, 0), (4, 1), (3, 5), (3, 4), (5, 1), (1, 5), (5, 8), (4, 6), (2, 3)]\n",
    "in_out = []\n",
    "\n",
    "for stop in stops:\n",
    "    if len(in_out) == 0:\n",
    "        last_value = 0\n",
    "    else:\n",
    "        last_value = in_out [-1]\n",
    "    next_value = last_value+stop[0]-stop[1]\n",
    "    in_out.append(next_value)\n",
    "    \n",
    "print('Number of passengers at each stop are', in_out)"
   ]
  },
  {
   "cell_type": "markdown",
   "metadata": {},
   "source": [
    "#### 3. Find the maximum occupation of the bus."
   ]
  },
  {
   "cell_type": "code",
   "execution_count": 5,
   "metadata": {
    "collapsed": false
   },
   "outputs": [
    {
     "name": "stdout",
     "output_type": "stream",
     "text": [
      "Number of passengers at each stop are [10, 13, 11, 10, 14, 10, 7, 5, 4]\n",
      "Maximum occupation of the bus is 14\n"
     ]
    }
   ],
   "source": [
    "stops = [(10, 0), (4, 1), (3, 5), (3, 4), (5, 1), (1, 5), (5, 8), (4, 6), (2, 3)]\n",
    "in_out = []\n",
    "\n",
    "for stop in stops:\n",
    "    if len(in_out) == 0:\n",
    "        last_value = 0\n",
    "    else:\n",
    "        last_value = in_out [-1]\n",
    "    next_value = last_value+stop[0]-stop[1]\n",
    "    in_out.append(next_value)\n",
    "\n",
    "print('Number of passengers at each stop are', in_out)\n",
    "print('Maximum occupation of the bus is', max(in_out))"
   ]
  },
  {
   "cell_type": "markdown",
   "metadata": {},
   "source": [
    "#### 4. Calculate the average occupation. And the standard deviation."
   ]
  },
  {
   "cell_type": "code",
   "execution_count": 63,
   "metadata": {
    "collapsed": false
   },
   "outputs": [
    {
     "name": "stdout",
     "output_type": "stream",
     "text": [
      "Average occupation is 9.33\n",
      "Sum of squares is 92.0\n",
      "Standard deviation is 3.2\n",
      "\n",
      "Number of passengers at each stop are [10, 13, 11, 10, 14, 10, 7, 5, 4]\n",
      "Total number of passengers are 84\n",
      "Number of stops are 9\n"
     ]
    }
   ],
   "source": [
    "#Standard Deviation formula: Q=math.sqrt((Sum(Xi-u)POWER2)/N)\n",
    "#Xi=each value\n",
    "#u=mean\n",
    "#N=total number of stops\n",
    "import math\n",
    "stops = [(10, 0), (4, 1), (3, 5), (3, 4), (5, 1), (1, 5), (5, 8), (4, 6), (2, 3)]\n",
    "in_out = []\n",
    "number_of_stops = len(stops)\n",
    "sum_of_squares = 0\n",
    "\n",
    "for stop in stops:\n",
    "    if len(in_out) == 0:\n",
    "        last_value = 0\n",
    "    else:\n",
    "        last_value = in_out [-1]\n",
    "    next_value = last_value+stop[0]-stop[1]\n",
    "    in_out.append(next_value)\n",
    "\n",
    "average = sum(in_out)/(number_of_stops)\n",
    "print('Average occupation is', round(average,2))\n",
    "\n",
    "for i in in_out:\n",
    "    sum_of_squares = sum_of_squares+((i-average)**2)\n",
    "    \n",
    "print('Sum of squares is', sum_of_squares)\n",
    "\n",
    "stand_dev = math.sqrt(sum_of_squares/number_of_stops)\n",
    "print('Standard deviation is', round(stand_dev,2))\n",
    "print()\n",
    "print('Number of passengers at each stop are', in_out)\n",
    "print('Total number of passengers are', sum(in_out))\n",
    "print('Number of stops are', number_of_stops)"
   ]
  },
  {
   "cell_type": "code",
   "execution_count": null,
   "metadata": {
    "collapsed": true
   },
   "outputs": [],
   "source": []
  }
 ],
 "metadata": {
  "kernelspec": {
   "display_name": "Python 3",
   "language": "python",
   "name": "python3"
  },
  "language_info": {
   "codemirror_mode": {
    "name": "ipython",
    "version": 3
   },
   "file_extension": ".py",
   "mimetype": "text/x-python",
   "name": "python",
   "nbconvert_exporter": "python",
   "pygments_lexer": "ipython3",
   "version": "3.4.3"
  }
 },
 "nbformat": 4,
 "nbformat_minor": 2
}
