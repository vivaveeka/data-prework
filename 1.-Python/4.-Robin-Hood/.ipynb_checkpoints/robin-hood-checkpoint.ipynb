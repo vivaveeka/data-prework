{
 "cells": [
  {
   "cell_type": "markdown",
   "metadata": {},
   "source": [
    "<img src=\"https://bit.ly/2VnXWr2\" width=\"100\" align=\"left\"/>"
   ]
  },
  {
   "cell_type": "markdown",
   "metadata": {},
   "source": [
    "# Robin Hood\n",
    "Robin Hood has entered a competition to win the archery contest in Sherwood. With his bow and arrows, he needs to shoot on a target and try to hit as close as possible to the center.\n",
    "\n",
    "![](images/arrows.jpg)\n",
    "\n",
    "## Context\n",
    "In this challenge, the landing position of arrows shot by archers in the competition will be represented using 2-dimensional coordinates. \n",
    "\n",
    "In the 2-dimensional space, a point can be defined by a pair of values that correspond to the horizontal coordinate (x) and the vertical coordinate (y). For example, in our case, an arrow that hits the center of the archery target will land in position (0, 0) on the coordinate axes. \n",
    "\n",
    "The space can be divided into 4 zones (quadrants): Q1, Q2, Q3, Q4. If a point is in Q1, both its x coordinate and y coordinate are positive. Any point with a null x or y coordinate is considered to not belong to any quadrant. \n",
    "\n",
    "If you want to know more about the cartesian coordinate system, you can check this [link](https://en.wikipedia.org/wiki/Cartesian_coordinate_system). \n",
    "\n",
    "## Tools\n",
    "You don't necessarily need to use all the tools. Maybe you opt to use some of them or completely different ones, they are given to help you shape the exercise. Programming exercises can be solved in many different ways.\n",
    "* Data structures: **lists, sets, tuples**\n",
    "* Conditional statements: **if-elif-else**\n",
    "* Loop: **while/for**\n",
    "* Minimum (optional sorting)\n",
    "\n",
    "## Tasks\n",
    "Robin Hood has hit the following points:"
   ]
  },
  {
   "cell_type": "code",
   "execution_count": null,
   "metadata": {
    "collapsed": true
   },
   "outputs": [],
   "source": [
    "points = [(4, 5), (-0, 2), (4, 7), (1, -3), (3, -2), (4, 5), (3, 2), (5, 7), (-5, 7), (2, 2), (-4, 5), (0, -2),\n",
    "          (-4, 7), (-1, 3), (-3, 2), (-4, -5), (-3, 2), (5, 7), (5, 7), (2, 2), (9, 9), (-8, -9)]"
   ]
  },
  {
   "cell_type": "markdown",
   "metadata": {},
   "source": [
    "#### 1. Robin Hood is famous for hitting an arrow with another arrow. Find the coordinates of the points where an arrow hits another arrow."
   ]
  },
  {
   "cell_type": "code",
   "execution_count": 8,
   "metadata": {
    "collapsed": false
   },
   "outputs": [
    {
     "name": "stdout",
     "output_type": "stream",
     "text": [
      "Coordinates of the points where an arrow hits another arrow are [(4, 5), (-3, 2), (5, 7), (5, 7), (2, 2)]\n"
     ]
    }
   ],
   "source": [
    "points = [(4, 5), (-0, 2), (4, 7), (1, -3), (3, -2), (4, 5), (3, 2), (5, 7), (-5, 7), (2, 2), (-4, 5), (0, -2),\n",
    "          (-4, 7), (-1, 3), (-3, 2), (-4, -5), (-3, 2), (5, 7), (5, 7), (2, 2), (9, 9), (-8, -9)]\n",
    "\n",
    "repeat_coordinates = []\n",
    "\n",
    "for i in range(0,len(points)):\n",
    "    point = points[i]\n",
    "    index_of_first=points.index(point)\n",
    "    if index_of_first != i:\n",
    "        repeat_coordinates.append(point)\n",
    "    \n",
    "print('Coordinates of the points where an arrow hits another arrow are', repeat_coordinates)"
   ]
  },
  {
   "cell_type": "markdown",
   "metadata": {},
   "source": [
    "#### 2. Calculate how many arrows have fallen in each quadrant. \n",
    "**Note**: the arrows that fall in the axis (x=0 or y=0) don't belong to any quadrant."
   ]
  },
  {
   "cell_type": "code",
   "execution_count": 18,
   "metadata": {
    "collapsed": false
   },
   "outputs": [
    {
     "name": "stdout",
     "output_type": "stream",
     "text": [
      "The number of arrow in Q1 are 10\n",
      "The number of arrow in Q2 are 6\n",
      "The number of arrow in Q3 are 2\n",
      "The number of arrow in Q4 are 2\n"
     ]
    }
   ],
   "source": [
    "points = [(4, 5), (-0, 2), (4, 7), (1, -3), (3, -2), (4, 5), (3, 2), (5, 7), (-5, 7), (2, 2), (-4, 5), (0, -2),\n",
    "          (-4, 7), (-1, 3), (-3, 2), (-4, -5), (-3, 2), (5, 7), (5, 7), (2, 2), (9, 9), (-8, -9)]\n",
    "\n",
    "Q1 = 0\n",
    "Q2 = 0\n",
    "Q3 = 0\n",
    "Q4 = 0\n",
    "\n",
    "for i in range(0,len(points)):\n",
    "    point = points[i]\n",
    "    if point [0] == 0 or point [1] == 0:\n",
    "        pass\n",
    "    elif point [0] > 0 and point [1] > 0:\n",
    "        Q1 = Q1+1\n",
    "    elif point [0] < 0 and point [1] > 0:\n",
    "        Q2 = Q2+1\n",
    "    elif point [0] < 0 and point [1] < 0:\n",
    "        Q3 = Q3+1\n",
    "    elif point [0] > 0 and point [1] < 0:\n",
    "        Q4 = Q4+1\n",
    "        \n",
    "print('The number of arrow in Q1 are', Q1)\n",
    "print('The number of arrow in Q2 are', Q2)\n",
    "print('The number of arrow in Q3 are', Q3)\n",
    "print('The number of arrow in Q4 are', Q4)"
   ]
  },
  {
   "cell_type": "markdown",
   "metadata": {},
   "source": [
    "#### 3. Find the point closest to the center. Calculate its distance to the center. \n",
    "Take into account that there might be more than one point at the minimum distance to the center.\n",
    "\n",
    "**Hint**: Use the Euclidean distance. You can find more information about it [here](https://en.wikipedia.org/wiki/Euclidean_distance).  \n",
    "**Hint**: Defining a function that calculates the distance to the center can help."
   ]
  },
  {
   "cell_type": "code",
   "execution_count": 13,
   "metadata": {
    "collapsed": false
   },
   "outputs": [
    {
     "name": "stdout",
     "output_type": "stream",
     "text": [
      "The points closest to the center are [(0, 2), (0, -2)]\n"
     ]
    }
   ],
   "source": [
    "#the output will be multiple points\n",
    "#distance = square root of(a2+b2)\n",
    "#Xa means the X coordinate of point A\n",
    "#Yb means the Y coordinate of point B\n",
    "#The horizontal distance a is (xA − xB)\n",
    "#The vertical distance b is (yA − yB)\n",
    "#Square root of both sides:\tc = square root of [(xA-xB)^2+(yA-yB)^2]\n",
    "\n",
    "import math\n",
    "points = [(4, 5), (-0, 2), (4, 7), (1, -3), (3, -2), (4, 5), (3, 2), (5, 7), (-5, 7), (2, 2), (-4, 5), (0, -2),\n",
    "          (-4, 7), (-1, 3), (-3, 2), (-4, -5), (-3, 2), (5, 7), (5, 7), (2, 2), (9, 9), (-8, -9)]\n",
    "\n",
    "closest_to_centre = []\n",
    "\n",
    "def calc_dist(point):\n",
    "    sum_of_squares = (0-point[0])**2 + (0-point[1])**2\n",
    "    dist_to_centre = math.sqrt(sum_of_squares)\n",
    "    return dist_to_centre\n",
    "    \n",
    "for i in range(0,len(points)):\n",
    "    point = points[i]\n",
    "    distance = calc_dist(point)\n",
    "    #print(point, distance)\n",
    "    #another way to write: print(calc_dist(point))\n",
    "    \n",
    "    #If this is the first element of points, consider it to be the closest point so far\n",
    "    if i == 0:\n",
    "        closest_to_centre.append(point)\n",
    "        continue\n",
    "        \n",
    "    if calc_dist(point) == calc_dist(closest_to_centre[0]):\n",
    "        closest_to_centre.append(point)\n",
    "\n",
    "    if calc_dist(point) < calc_dist(closest_to_centre[0]):\n",
    "        closest_to_centre = [point]\n",
    "\n",
    "print('The points closest to the center are', closest_to_centre)"
   ]
  },
  {
   "cell_type": "markdown",
   "metadata": {},
   "source": [
    "#### 4. If the archery target has a radius of 9, calculate the number of arrows that won't hit the target. \n",
    "**Hint**: Use the function created in step 3. "
   ]
  },
  {
   "cell_type": "code",
   "execution_count": 28,
   "metadata": {
    "collapsed": false
   },
   "outputs": [
    {
     "name": "stdout",
     "output_type": "stream",
     "text": [
      "Arrows with distance outside of radius are [12.727922061357855, 12.041594578792296]\n",
      "Total number of arrows with distance outside of radius are 2\n"
     ]
    }
   ],
   "source": [
    "import math\n",
    "points = [(4, 5), (-0, 2), (4, 7), (1, -3), (3, -2), (4, 5), (3, 2), (5, 7), (-5, 7), (2, 2), (-4, 5), (0, -2),\n",
    "          (-4, 7), (-1, 3), (-3, 2), (-4, -5), (-3, 2), (5, 7), (5, 7), (2, 2), (9, 9), (-8, -9)]\n",
    "\n",
    "#the output will be number of arrows outside of distance 9, write function for distance then conditional for distance \n",
    "#bigger than number 9, count them up together\n",
    "\n",
    "out_radius_arrows = []\n",
    "\n",
    "def calc_dist(point):\n",
    "    sum_of_squares = (0-point[0])**2 + (0-point[1])**2\n",
    "    dist_to_centre = math.sqrt(sum_of_squares)\n",
    "    return dist_to_centre\n",
    "\n",
    "for i in range(0,len(points)):\n",
    "    point = points[i]\n",
    "    distance = calc_dist(point)\n",
    "    #print(point, distance)\n",
    "    \n",
    "    if distance > 9:\n",
    "        out_radius_arrows.append(distance)\n",
    "\n",
    "print('Arrows with distance outside of radius are', out_radius_arrows)\n",
    "print('Total number of arrows with distance outside of radius are', len(out_radius_arrows))\n"
   ]
  },
  {
   "cell_type": "code",
   "execution_count": null,
   "metadata": {
    "collapsed": true
   },
   "outputs": [],
   "source": []
  }
 ],
 "metadata": {
  "kernelspec": {
   "display_name": "Python 3",
   "language": "python",
   "name": "python3"
  },
  "language_info": {
   "codemirror_mode": {
    "name": "ipython",
    "version": 3
   },
   "file_extension": ".py",
   "mimetype": "text/x-python",
   "name": "python",
   "nbconvert_exporter": "python",
   "pygments_lexer": "ipython3",
   "version": "3.4.3"
  }
 },
 "nbformat": 4,
 "nbformat_minor": 2
}
